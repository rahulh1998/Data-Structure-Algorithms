{
 "cells": [
  {
   "cell_type": "markdown",
   "id": "be7bc2cc",
   "metadata": {},
   "source": [
    "# Selection Sort\n",
    "<p>\n",
    "    Pick the index of the smallest element and swap \n",
    "</p>"
   ]
  },
  {
   "cell_type": "code",
   "execution_count": 3,
   "id": "af4f6124",
   "metadata": {},
   "outputs": [
    {
     "data": {
      "text/plain": [
       "[1, 2, 3, 4, 5]"
      ]
     },
     "execution_count": 3,
     "metadata": {},
     "output_type": "execute_result"
    }
   ],
   "source": [
    "def SelectionSort(arr):\n",
    "    for i in range(len(arr)):\n",
    "        minindex = i\n",
    "        for green in range(i+1, len(arr)):\n",
    "            if arr[green]<arr[i]:\n",
    "                minindex = green\n",
    "        arr[i],arr[minindex] = arr[minindex], arr[i]\n",
    "\n",
    "    return arr\n",
    "\n",
    "SelectionSort([5,4,3,2,1])"
   ]
  },
  {
   "cell_type": "markdown",
   "id": "01dc62dd",
   "metadata": {},
   "source": [
    "# BubbleSort\n",
    "<p> For each iteration in n, compare adjacent elements and swap </p>"
   ]
  },
  {
   "cell_type": "code",
   "execution_count": 5,
   "id": "81e31861",
   "metadata": {},
   "outputs": [
    {
     "data": {
      "text/plain": [
       "[1, 2, 3, 4, 5]"
      ]
     },
     "execution_count": 5,
     "metadata": {},
     "output_type": "execute_result"
    }
   ],
   "source": [
    "def BubbleSort(arr):\n",
    "    for green in range(len(arr)):\n",
    "        for i in range(len(arr)-1, green, -1):\n",
    "            if arr[i-1]>arr[i]:\n",
    "                arr[i-1],arr[i] = arr[i], arr[i-1]\n",
    "    return arr\n",
    "\n",
    "BubbleSort([5,4,3,2,1])"
   ]
  },
  {
   "cell_type": "markdown",
   "id": "b50f10bc",
   "metadata": {},
   "source": [
    "# InsertionSort\n",
    "<p>For each iteration in n, get the element, compare and insert in correct position</p>"
   ]
  },
  {
   "cell_type": "code",
   "execution_count": 6,
   "id": "495e4338",
   "metadata": {},
   "outputs": [
    {
     "data": {
      "text/plain": [
       "[1, 2, 3, 4, 5]"
      ]
     },
     "execution_count": 6,
     "metadata": {},
     "output_type": "execute_result"
    }
   ],
   "source": [
    "def InsertionSort(arr):\n",
    "    for i in range(len(arr)):\n",
    "        temp = arr[i]\n",
    "        red = i - 1\n",
    "\n",
    "        while red >= 0 and temp < arr[red]:\n",
    "            arr[red+1] = arr[red]\n",
    "            red -= 1\n",
    "        \n",
    "        arr[red+1] = temp\n",
    "    return arr\n",
    "\n",
    "InsertionSort([5,4,3,2,1])"
   ]
  },
  {
   "cell_type": "code",
   "execution_count": null,
   "id": "ccfe51c1",
   "metadata": {},
   "outputs": [],
   "source": []
  }
 ],
 "metadata": {
  "kernelspec": {
   "display_name": "Python (genai)",
   "language": "python",
   "name": "genai"
  },
  "language_info": {
   "codemirror_mode": {
    "name": "ipython",
    "version": 3
   },
   "file_extension": ".py",
   "mimetype": "text/x-python",
   "name": "python",
   "nbconvert_exporter": "python",
   "pygments_lexer": "ipython3",
   "version": "3.12.11"
  }
 },
 "nbformat": 4,
 "nbformat_minor": 5
}
