{
 "cells": [
  {
   "cell_type": "markdown",
   "id": "be7bc2cc",
   "metadata": {},
   "source": [
    "# Selection Sort\n",
    "<p>\n",
    "    Pick the index of the smallest element and swap \n",
    "</p>"
   ]
  },
  {
   "cell_type": "code",
   "execution_count": 3,
   "id": "af4f6124",
   "metadata": {},
   "outputs": [
    {
     "data": {
      "text/plain": [
       "[1, 2, 3, 4, 5]"
      ]
     },
     "execution_count": 3,
     "metadata": {},
     "output_type": "execute_result"
    }
   ],
   "source": [
    "def SelectionSort(arr):\n",
    "    for i in range(len(arr)):\n",
    "        minindex = i\n",
    "        for green in range(i+1, len(arr)):\n",
    "            if arr[green]<arr[i]:\n",
    "                minindex = green\n",
    "        arr[i],arr[minindex] = arr[minindex], arr[i]\n",
    "\n",
    "    return arr\n",
    "\n",
    "SelectionSort([5,4,3,2,1])"
   ]
  },
  {
   "cell_type": "markdown",
   "id": "01dc62dd",
   "metadata": {},
   "source": [
    "# BubbleSort\n",
    "<p> For each iteration in n, compare adjacent elements and swap </p>"
   ]
  },
  {
   "cell_type": "code",
   "execution_count": 5,
   "id": "81e31861",
   "metadata": {},
   "outputs": [
    {
     "data": {
      "text/plain": [
       "[1, 2, 3, 4, 5]"
      ]
     },
     "execution_count": 5,
     "metadata": {},
     "output_type": "execute_result"
    }
   ],
   "source": [
    "def BubbleSort(arr):\n",
    "    for green in range(len(arr)):\n",
    "        for i in range(len(arr)-1, green, -1):\n",
    "            if arr[i-1]>arr[i]:\n",
    "                arr[i-1],arr[i] = arr[i], arr[i-1]\n",
    "    return arr\n",
    "\n",
    "BubbleSort([5,4,3,2,1])"
   ]
  },
  {
   "cell_type": "markdown",
   "id": "b50f10bc",
   "metadata": {},
   "source": [
    "# InsertionSort\n",
    "<p>For each iteration in n, get the element, compare and insert in correct position</p>"
   ]
  },
  {
   "cell_type": "code",
   "execution_count": 6,
   "id": "495e4338",
   "metadata": {},
   "outputs": [
    {
     "data": {
      "text/plain": [
       "[1, 2, 3, 4, 5]"
      ]
     },
     "execution_count": 6,
     "metadata": {},
     "output_type": "execute_result"
    }
   ],
   "source": [
    "def InsertionSort(arr):\n",
    "    for i in range(len(arr)):\n",
    "        temp = arr[i]\n",
    "        red = i - 1\n",
    "\n",
    "        while red >= 0 and temp < arr[red]:\n",
    "            arr[red+1] = arr[red]\n",
    "            red -= 1\n",
    "        \n",
    "        arr[red+1] = temp\n",
    "    return arr\n",
    "\n",
    "InsertionSort([5,4,3,2,1])"
   ]
  },
  {
   "cell_type": "markdown",
   "id": "ccfe51c1",
   "metadata": {},
   "source": [
    "# MergeSort\n",
    "<p> Divide the arrays into subarray and then sort each sub arrays and later combine the arrays </p>"
   ]
  },
  {
   "cell_type": "code",
   "execution_count": 23,
   "id": "847d7dde",
   "metadata": {},
   "outputs": [
    {
     "data": {
      "text/plain": [
       "[1, 2, 3, 4, 5, 6, 7, 8, 9, 10]"
      ]
     },
     "execution_count": 23,
     "metadata": {},
     "output_type": "execute_result"
    }
   ],
   "source": [
    "## Approach 1 Using LEFT AND RIGHT\n",
    "def helper(A, start, end):\n",
    "\n",
    "    # if leaf nodes \n",
    "    if start == end:\n",
    "        return [A[start]]\n",
    "\n",
    "    mid = (start+end)//2\n",
    "\n",
    "    left = helper(A, start, mid) # Left side of the array\n",
    "    right = helper(A, mid + 1, end) # Right side of the array\n",
    "    \n",
    "    # initializing the starting positions, pointer i for left and pointer j for right\n",
    "    # i = start\n",
    "    # j = mid + 1\n",
    "    i = 0\n",
    "    j = 0\n",
    "\n",
    "    # auxilary array creation\n",
    "    aux = []\n",
    "\n",
    "    while i < len(left) and j < len(right):\n",
    "        if left[i] <= right[j]:\n",
    "            aux.append(left[i])\n",
    "            i+=1 # incrementing the left pointer\n",
    "        else:\n",
    "            aux.append(right[j])\n",
    "            j+=1 # incrementing the right pointer\n",
    "\n",
    "    # Gathering remaining values\n",
    "    while i<len(left):\n",
    "        aux.append(left[i])\n",
    "        i+=1\n",
    "\n",
    "    while j<len(right):\n",
    "        aux.append(right[j])\n",
    "        j+=1\n",
    "    \n",
    "    return aux\n",
    "\n",
    "def MergeSort(A):\n",
    "    start = 0\n",
    "    end = len(A)-1\n",
    "    arr = helper(A, start, end)\n",
    "    return arr\n",
    "\n",
    "MergeSort([10,9,8,7,6,5,4,3,2,1])\n",
    "\n",
    "\n"
   ]
  },
  {
   "cell_type": "code",
   "execution_count": 2,
   "id": "9122f3cf",
   "metadata": {},
   "outputs": [
    {
     "name": "stdout",
     "output_type": "stream",
     "text": [
      "[1, 2, 3, 4, 5, 6, 7, 8, 9, 10]\n"
     ]
    }
   ],
   "source": [
    "def helper(A, start, end):\n",
    "    if start == end:\n",
    "        return\n",
    "\n",
    "    mid = (start + end) // 2\n",
    "\n",
    "    # Sort left half\n",
    "    helper(A, start, mid)\n",
    "    # Sort right half\n",
    "    helper(A, mid + 1, end)\n",
    "\n",
    "    i = start\n",
    "    j = mid + 1\n",
    "    aux = []\n",
    "\n",
    "    # Merge step\n",
    "    while i <= mid and j <= end:\n",
    "        if A[i] <= A[j]:\n",
    "            aux.append(A[i])\n",
    "            i += 1\n",
    "        else:\n",
    "            aux.append(A[j])\n",
    "            j += 1\n",
    "\n",
    "    # Copy remaining left half\n",
    "    while i <= mid:\n",
    "        aux.append(A[i])\n",
    "        i += 1\n",
    "\n",
    "    # Copy remaining right half\n",
    "    while j <= end:\n",
    "        aux.append(A[j])\n",
    "        j += 1\n",
    "\n",
    "    # Copy back to original array\n",
    "    A[start:end+1] = aux\n",
    "\n",
    "\n",
    "def MergeSort(A):\n",
    "    if not A:\n",
    "        return []\n",
    "    helper(A, 0, len(A) - 1)\n",
    "    return A\n",
    "\n",
    "\n",
    "print(MergeSort([10, 9, 8, 7, 6, 5, 4, 3, 2, 1]))\n"
   ]
  },
  {
   "cell_type": "code",
   "execution_count": 18,
   "id": "ec45c909",
   "metadata": {},
   "outputs": [
    {
     "name": "stdout",
     "output_type": "stream",
     "text": [
      "6\n"
     ]
    }
   ],
   "source": [
    "def binarysearch(arr, target, start, end):\n",
    "    \n",
    "    if start > end:\n",
    "        return -1\n",
    "\n",
    "    mid = (start + end)//2\n",
    "\n",
    "    if target == arr[mid]:\n",
    "        return mid\n",
    "\n",
    "    elif target > arr[mid]:\n",
    "        return binarysearch(arr, target, mid+1, end)\n",
    "\n",
    "    else:\n",
    "        return binarysearch(arr, target, start, mid-1)\n",
    "\n",
    "arr = [1,2,3,4,5,6,7,8,9]\n",
    "print(binarysearch(arr, 7, 0, len(arr)-1))"
   ]
  },
  {
   "cell_type": "code",
   "execution_count": 21,
   "id": "a079a26e",
   "metadata": {},
   "outputs": [
    {
     "data": {
      "text/plain": [
       "[0, 1, 2, 3, 4, 5, 6, 7, 8, 9, 10]"
      ]
     },
     "execution_count": 21,
     "metadata": {},
     "output_type": "execute_result"
    }
   ],
   "source": [
    "# Selection Sort\n",
    "\n",
    "def selectionsort(arr):\n",
    "\n",
    "    for i in range(len(arr)):\n",
    "        minindex = i\n",
    "        for j in range(i+1, len(arr)):\n",
    "            if arr[j] < arr[minindex]:\n",
    "                minindex = j\n",
    "        arr[i], arr[minindex] = arr[minindex], arr[i]\n",
    "    return arr\n",
    "\n",
    "selectionsort([10,9,8,7,6,5,4,3,2,1,0])"
   ]
  },
  {
   "cell_type": "code",
   "execution_count": 32,
   "id": "021904cb",
   "metadata": {},
   "outputs": [
    {
     "data": {
      "text/plain": [
       "[0, 1, 2, 3, 4, 5, 6, 7, 8, 9, 10]"
      ]
     },
     "execution_count": 32,
     "metadata": {},
     "output_type": "execute_result"
    }
   ],
   "source": [
    "def bubblesort(arr):\n",
    "    for i in range(len(arr)):\n",
    "        for j in range(len(arr)-1, i, -1):\n",
    "            if arr[j-1] > arr[j]:\n",
    "                arr[j] , arr[j-1] = arr[j-1] , arr[j]\n",
    "    return arr\n",
    "\n",
    "    \n",
    "bubblesort([10,9,8,7,6,5,4,3,2,1,0])"
   ]
  },
  {
   "cell_type": "code",
   "execution_count": 34,
   "id": "1a102091",
   "metadata": {},
   "outputs": [
    {
     "name": "stdout",
     "output_type": "stream",
     "text": [
      "[0, 1, 2, 3, 4, 5, 6, 7, 8, 9, 10]\n"
     ]
    }
   ],
   "source": [
    "arr = [10,9,8,7,6,5,4,3,2,1,0]\n",
    "for i in range(len(arr)):\n",
    "    prev = i - 1\n",
    "    curr = arr[i]\n",
    "\n",
    "    while prev >= 0 and curr < arr[prev]:\n",
    "        arr[prev + 1] = arr[prev]\n",
    "        prev -= 1\n",
    "    arr[prev+1] = curr\n",
    "\n",
    "print(arr)"
   ]
  },
  {
   "cell_type": "code",
   "execution_count": 8,
   "id": "777df327",
   "metadata": {},
   "outputs": [
    {
     "name": "stdout",
     "output_type": "stream",
     "text": [
      "{0: 0, 1: 1, 2: 4, 3: 9, 4: 16, 5: 25, 6: 36, 7: 49, 8: 64, 9: 81, 10: 100, 11: 121, 12: 144, 13: 169, 14: 196}\n",
      "0\n",
      "1\n",
      "2\n",
      "3\n",
      "4\n",
      "5\n",
      "6\n",
      "7\n",
      "8\n",
      "9\n",
      "10\n",
      "11\n",
      "12\n",
      "13\n",
      "14\n"
     ]
    }
   ],
   "source": [
    "seen = {i:i**2 for i in range(15)}\n",
    "print(seen)\n",
    "\n",
    "# for i,j in seen.items():\n",
    "#     print(i,j)\n",
    "\n",
    "for i in seen:\n",
    "    print(i)"
   ]
  },
  {
   "cell_type": "code",
   "execution_count": 3,
   "id": "7a363a0c",
   "metadata": {},
   "outputs": [
    {
     "name": "stdout",
     "output_type": "stream",
     "text": [
      "[2, 2, 4, 6, 7, 9, 10, 12, 12, 23, 83, 234, 356]\n"
     ]
    }
   ],
   "source": [
    "#  Merge Sort \n",
    "\n",
    "def helper(A,start,end):\n",
    "    if start == end:\n",
    "        return A\n",
    "    \n",
    "    mid = (start+end)//2\n",
    "\n",
    "    helper(A, start, mid)\n",
    "    helper(A, mid+1, end)\n",
    "\n",
    "    i = start\n",
    "    j = mid+1\n",
    "    aux = []\n",
    "\n",
    "    while i<=mid and j <= end:\n",
    "        if A[i] <= A[j]:\n",
    "            aux.append(A[i])\n",
    "            i+=1\n",
    "        else:\n",
    "            aux.append(A[j])\n",
    "            j+=1\n",
    "\n",
    "    # collecting remaining elements\n",
    "    while i<=mid:\n",
    "        aux.append(A[i])\n",
    "        i+=1\n",
    "        \n",
    "    while j<=end:\n",
    "        aux.append(A[j])\n",
    "        j+=1\n",
    "\n",
    "    A[start:end+1] = aux\n",
    "    return A\n",
    "\n",
    "def mergesort(A):\n",
    "    start = 0\n",
    "    end = len(A)-1\n",
    "    res = helper(A,start,end)\n",
    "    return res\n",
    "\n",
    "res = mergesort([10,9,7,23,234,356,12,12,6,2,4,83,2])\n",
    "print(res)"
   ]
  },
  {
   "cell_type": "code",
   "execution_count": null,
   "id": "e7026119",
   "metadata": {},
   "outputs": [],
   "source": []
  }
 ],
 "metadata": {
  "kernelspec": {
   "display_name": "Python (genai)",
   "language": "python",
   "name": "genai"
  },
  "language_info": {
   "codemirror_mode": {
    "name": "ipython",
    "version": 3
   },
   "file_extension": ".py",
   "mimetype": "text/x-python",
   "name": "python",
   "nbconvert_exporter": "python",
   "pygments_lexer": "ipython3",
   "version": "3.12.11"
  }
 },
 "nbformat": 4,
 "nbformat_minor": 5
}
