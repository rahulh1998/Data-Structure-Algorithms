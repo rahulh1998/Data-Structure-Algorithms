{
 "cells": [
  {
   "cell_type": "code",
   "execution_count": null,
   "id": "c1c807f8",
   "metadata": {},
   "outputs": [
    {
     "name": "stdout",
     "output_type": "stream",
     "text": [
      "[4, 2, 3, 1]\n"
     ]
    }
   ],
   "source": [
    "# Segragate even odd\n",
    "arr = [1,2,3,4] # [2,4, 1,3]\n",
    "\n",
    "i = 0\n",
    "j = len(arr)-1\n",
    "\n",
    "while i<j:\n",
    "    if arr[i]%2 == 0 and arr[j]%2 == 0:\n",
    "        i+=1\n",
    "    elif arr[i]%2==0 and arr[j]%2!=0:\n",
    "        i+=1\n",
    "        j-=1\n",
    "    elif arr[i]%2!=0 and arr[j]%2==0:\n",
    "        arr[i], arr[j] = arr[j], arr[i]\n",
    "        i+=1\n",
    "        j-=1\n",
    "    else:\n",
    "        j-=1\n",
    "\n",
    "\n",
    "print(arr)\n"
   ]
  },
  {
   "cell_type": "code",
   "execution_count": null,
   "id": "ec6bf2aa",
   "metadata": {},
   "outputs": [],
   "source": []
  }
 ],
 "metadata": {
  "kernelspec": {
   "display_name": "Python (genai)",
   "language": "python",
   "name": "genai"
  },
  "language_info": {
   "codemirror_mode": {
    "name": "ipython",
    "version": 3
   },
   "file_extension": ".py",
   "mimetype": "text/x-python",
   "name": "python",
   "nbconvert_exporter": "python",
   "pygments_lexer": "ipython3",
   "version": "3.12.11"
  }
 },
 "nbformat": 4,
 "nbformat_minor": 5
}
