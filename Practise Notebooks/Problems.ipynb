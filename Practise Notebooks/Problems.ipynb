{
 "cells": [
  {
   "cell_type": "code",
   "execution_count": null,
   "id": "c1c807f8",
   "metadata": {},
   "outputs": [
    {
     "name": "stdout",
     "output_type": "stream",
     "text": [
      "[4, 2, 3, 1]\n"
     ]
    }
   ],
   "source": [
    "# Segragate even odd\n",
    "arr = [1,2,3,4] # [2,4, 1,3]\n",
    "\n",
    "i = 0\n",
    "j = len(arr)-1\n",
    "\n",
    "while i<j:\n",
    "    if arr[i]%2 == 0 and arr[j]%2 == 0:\n",
    "        i+=1\n",
    "    elif arr[i]%2==0 and arr[j]%2!=0:\n",
    "        i+=1\n",
    "        j-=1\n",
    "    elif arr[i]%2!=0 and arr[j]%2==0:\n",
    "        arr[i], arr[j] = arr[j], arr[i]\n",
    "        i+=1\n",
    "        j-=1\n",
    "    else:\n",
    "        j-=1\n",
    "\n",
    "\n",
    "print(arr)\n"
   ]
  },
  {
   "cell_type": "code",
   "execution_count": 17,
   "id": "ec6bf2aa",
   "metadata": {},
   "outputs": [
    {
     "name": "stdout",
     "output_type": "stream",
     "text": [
      "0\n",
      "1. Blue at 1 swapped to 7 : ['G', 'G', 'G', 'G', 'R', 'B', 'R', 'B']. BP = 8\n",
      "1\n",
      "2\n",
      "3\n",
      "4. Red at 4 swapped to 0 : ['R', 'G', 'G', 'G', 'G', 'B', 'R', 'B']. RP = 1\n",
      "5. Blue at 5 swapped to 6 : ['R', 'G', 'G', 'G', 'G', 'R', 'B', 'B']. BP = 7\n",
      "5. Red at 5 swapped to 1 : ['R', 'R', 'G', 'G', 'G', 'G', 'B', 'B']. RP = 2\n"
     ]
    },
    {
     "data": {
      "text/plain": [
       "['R', 'R', 'G', 'G', 'G', 'G', 'B', 'B']"
      ]
     },
     "execution_count": 17,
     "metadata": {},
     "output_type": "execute_result"
    }
   ],
   "source": [
    "# Dutch National Flag - Main idea is to sort only red and blue rest will automatically get sorted\n",
    "\n",
    "balls = ['G','B','G','G','R','B','R','G']\n",
    "i = 0\n",
    "rp = 0\n",
    "bp = len(balls) - 1\n",
    "\n",
    "while i <= bp:\n",
    "\n",
    "    if balls[i] == 'R': # If red found \n",
    "        balls[i],balls[rp] = balls[rp],balls[i]\n",
    "        print(f'{i}. Red at {i} swapped to {rp} : {balls}. RP = {rp+1}')\n",
    "        rp+=1\n",
    "        i+=1\n",
    "\n",
    "    elif balls[i] == 'B':\n",
    "        balls[i],balls[bp] = balls[bp],balls[i]\n",
    "        print(f'{i}. Blue at {i} swapped to {bp} : {balls}. BP = {bp+1}')\n",
    "        bp-=1\n",
    "\n",
    "    else:\n",
    "        print(i)\n",
    "        i+=1\n",
    "\n",
    "balls"
   ]
  },
  {
   "cell_type": "code",
   "execution_count": null,
   "id": "b96ad4b3",
   "metadata": {},
   "outputs": [
    {
     "data": {
      "text/plain": [
       "[0, 3, 5]"
      ]
     },
     "execution_count": 19,
     "metadata": {},
     "output_type": "execute_result"
    }
   ],
   "source": [
    "# Merge One Sorted Array Into Another\n",
    "\n",
    "# First array has n positive numbers, and they are sorted in the non-descending order.\n",
    "\n",
    "# Second array has 2n numbers: first n are also positive and sorted in the same way but the last n are all zeroes.\n",
    "\n",
    "# Merge the first array into the second and return the latter. You should get 2n positive integers sorted in the non-descending order.\n",
    "\n",
    "# Example\n",
    "# {\n",
    "# \"first\": [1, 3, 5],\n",
    "# \"second\": [2, 4, 6, 0, 0, 0]\n",
    "# }\n",
    "\n",
    "# Output:\n",
    "# [1, 2, 3, 4, 5, 6]\n",
    "# Notes\n",
    "# Constraints:\n",
    "\n",
    "# 1 <= n <= 105\n",
    "# 1 <= array elements (except those zeroes) <= 2 * 109\n",
    "# You can use only constant auxiliary space.\n",
    "\n",
    "first = [1,3,5]\n",
    "second = [2,4,6,0,0,0]\n",
    "\n",
    "f = 0\n",
    "s = 0\n",
    "\n",
    "while s < len(second):\n",
    "    if first[f] < second[s]:\n",
    "        first[f], second[s] = second[s],first[f]\n",
    "        s+=1\n",
    "\n",
    "    elif second[s]<first[f]:\n",
    "        first[f], second[s] = second[s],first[f]\n",
    "        s+=1\n",
    "    \n",
    "    else:\n",
    "        s+=1\n",
    "\n",
    "f = 0\n",
    "while f < len(first):\n",
    "    if first[f] == 0:\n",
    "        f+=1"
   ]
  },
  {
   "cell_type": "code",
   "execution_count": 20,
   "id": "179208ed",
   "metadata": {},
   "outputs": [
    {
     "name": "stdout",
     "output_type": "stream",
     "text": [
      "[0, 3, 5] \n",
      " [1, 2, 4, 6, 0, 0]\n"
     ]
    }
   ],
   "source": [
    "print(first,'\\n', second)"
   ]
  },
  {
   "cell_type": "code",
   "execution_count": 21,
   "id": "8d71663d",
   "metadata": {},
   "outputs": [
    {
     "data": {
      "text/plain": [
       "[4, 2, 3, 1]"
      ]
     },
     "execution_count": 21,
     "metadata": {},
     "output_type": "execute_result"
    }
   ],
   "source": [
    "# Segregate Even And Odd Numbers\n",
    "# Given an array of numbers, rearrange them in-place so that even numbers appear before odd ones.\n",
    "\n",
    "# Example\n",
    "# {\n",
    "# \"numbers\": [1, 2, 3, 4]\n",
    "# }\n",
    "# Output:\n",
    "\n",
    "# [4, 2, 3, 1]\n",
    "# The order within the group of even numbers does not matter; same with odd numbers. So the following are also correct outputs: [4, 2, 1, 3], [2, 4, 1, 3], [2, 4, 3, 1].\n",
    "\n",
    "# Notes\n",
    "# It is important to practice solving this problem by rearranging numbers in-place.\n",
    "# There is no need to preserve the original order within the even and within the odd numbers.\n",
    "# We look for a solution of the linear time complexity that uses constant auxiliary space.\n",
    "# Constraints:\n",
    "\n",
    "# 1 <= length of the array <= 105\n",
    "# 1 <= element of the array <= 109\n",
    "\n",
    "\n",
    "\n",
    "arr = [4, 2, 3, 1]\n",
    "i = 0\n",
    "j = len(arr)-1\n",
    "\n",
    "while i<j:\n",
    "    if arr[j]%2 ==0 and arr[i]%2!=0:\n",
    "        arr[i], arr[j] = arr[j],arr[i]\n",
    "        i+=1\n",
    "        j-=1\n",
    "    elif arr[j]%2 ==0 and arr[i]%2==0:\n",
    "        i+=1\n",
    "    else:\n",
    "        i+=1\n",
    "arr"
   ]
  },
  {
   "cell_type": "code",
   "execution_count": null,
   "id": "b8f6efa6",
   "metadata": {},
   "outputs": [],
   "source": []
  }
 ],
 "metadata": {
  "kernelspec": {
   "display_name": "Python (genai)",
   "language": "python",
   "name": "genai"
  },
  "language_info": {
   "codemirror_mode": {
    "name": "ipython",
    "version": 3
   },
   "file_extension": ".py",
   "mimetype": "text/x-python",
   "name": "python",
   "nbconvert_exporter": "python",
   "pygments_lexer": "ipython3",
   "version": "3.12.11"
  }
 },
 "nbformat": 4,
 "nbformat_minor": 5
}
