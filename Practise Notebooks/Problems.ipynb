{
 "cells": [
  {
   "cell_type": "code",
   "execution_count": null,
   "id": "c1c807f8",
   "metadata": {},
   "outputs": [
    {
     "name": "stdout",
     "output_type": "stream",
     "text": [
      "[4, 2, 3, 1]\n"
     ]
    }
   ],
   "source": [
    "# Segragate even odd\n",
    "arr = [1,2,3,4] # [2,4, 1,3]\n",
    "\n",
    "i = 0\n",
    "j = len(arr)-1\n",
    "\n",
    "while i<j:\n",
    "    if arr[i]%2 == 0 and arr[j]%2 == 0:\n",
    "        i+=1\n",
    "    elif arr[i]%2==0 and arr[j]%2!=0:\n",
    "        i+=1\n",
    "        j-=1\n",
    "    elif arr[i]%2!=0 and arr[j]%2==0:\n",
    "        arr[i], arr[j] = arr[j], arr[i]\n",
    "        i+=1\n",
    "        j-=1\n",
    "    else:\n",
    "        j-=1\n",
    "\n",
    "\n",
    "print(arr)\n"
   ]
  },
  {
   "cell_type": "code",
   "execution_count": null,
   "id": "ec6bf2aa",
   "metadata": {},
   "outputs": [
    {
     "name": "stdout",
     "output_type": "stream",
     "text": [
      "0\n",
      "1. Blue at 1 swapped to 7 : ['G', 'G', 'G', 'G', 'R', 'B', 'R', 'B']. BP = 8\n",
      "1\n",
      "2\n",
      "3\n",
      "4. Red at 4 swapped to 0 : ['R', 'G', 'G', 'G', 'G', 'B', 'R', 'B']. RP = 1\n",
      "5. Blue at 5 swapped to 6 : ['R', 'G', 'G', 'G', 'G', 'R', 'B', 'B']. BP = 7\n",
      "5. Red at 5 swapped to 1 : ['R', 'R', 'G', 'G', 'G', 'G', 'B', 'B']. RP = 2\n"
     ]
    },
    {
     "data": {
      "text/plain": [
       "['R', 'R', 'G', 'G', 'G', 'G', 'B', 'B']"
      ]
     },
     "execution_count": 16,
     "metadata": {},
     "output_type": "execute_result"
    }
   ],
   "source": [
    "# Dutch National Flag - Main idea is to sort only red and blue rest will automatically get sorted\n",
    "\n",
    "balls = ['G','B','G','G','R','B','R','G']\n",
    "i = 0\n",
    "rp = 0\n",
    "bp = len(balls) - 1\n",
    "\n",
    "while i <= bp:\n",
    "\n",
    "    if balls[i] == 'R': # If red found \n",
    "        balls[i],balls[rp] = balls[rp],balls[i]\n",
    "        # print(f'{i}. Red at {i} swapped to {rp} : {balls}. RP = {rp+1}')\n",
    "        rp+=1\n",
    "        i+=1\n",
    "\n",
    "    elif balls[i] == 'B':\n",
    "        balls[i],balls[bp] = balls[bp],balls[i]\n",
    "        # print(f'{i}. Blue at {i} swapped to {bp} : {balls}. BP = {bp+1}')\n",
    "        bp-=1\n",
    "\n",
    "    else:\n",
    "        print(i)\n",
    "        i+=1\n",
    "\n",
    "balls"
   ]
  },
  {
   "cell_type": "code",
   "execution_count": null,
   "id": "b96ad4b3",
   "metadata": {},
   "outputs": [],
   "source": []
  }
 ],
 "metadata": {
  "kernelspec": {
   "display_name": "Python (genai)",
   "language": "python",
   "name": "genai"
  },
  "language_info": {
   "codemirror_mode": {
    "name": "ipython",
    "version": 3
   },
   "file_extension": ".py",
   "mimetype": "text/x-python",
   "name": "python",
   "nbconvert_exporter": "python",
   "pygments_lexer": "ipython3",
   "version": "3.12.11"
  }
 },
 "nbformat": 4,
 "nbformat_minor": 5
}
